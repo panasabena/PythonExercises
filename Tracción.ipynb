{
 "cells": [
  {
   "cell_type": "code",
   "execution_count": 47,
   "metadata": {},
   "outputs": [],
   "source": [
    "import pandas as pd\n",
    "from pandas import DataFrame\n",
    "#import numpy as np\n",
    "import matplotlib.pyplot as plt\n",
    "import seaborn as sns\n",
    "from math import pi"
   ]
  },
  {
   "cell_type": "code",
   "execution_count": 48,
   "metadata": {},
   "outputs": [
    {
     "data": {
      "text/plain": [
       "3.141592653589793"
      ]
     },
     "execution_count": 48,
     "metadata": {},
     "output_type": "execute_result"
    }
   ],
   "source": [
    "pi"
   ]
  },
  {
   "cell_type": "code",
   "execution_count": 51,
   "metadata": {},
   "outputs": [
    {
     "data": {
      "text/plain": [
       "47.12388980384689"
      ]
     },
     "execution_count": 51,
     "metadata": {},
     "output_type": "execute_result"
    }
   ],
   "source": [
    "P=[70,120,150,160,200,220,233,233,220]\n",
    "Alargamiento=[0.25,0.4,0.5,0.6,1.75,3,5,6.5,8]\n",
    "diametro_1=15\n",
    "diametro_2=12.5\n",
    "alargamiento_inicial=0\n",
    "longitud_inicial=50\n",
    "superficie=2*pi*((diametro_1)/2)\n",
    "#x1 =(A+B*np.linspace(1000,10000,50))\n",
    "superficie"
   ]
  },
  {
   "cell_type": "code",
   "execution_count": 38,
   "metadata": {},
   "outputs": [
    {
     "data": {
      "text/plain": [
       "[0.005, 0.008, 0.01, 0.012, 0.035, 0.06, 0.1, 0.13, 0.16]"
      ]
     },
     "execution_count": 38,
     "metadata": {},
     "output_type": "execute_result"
    }
   ],
   "source": [
    "defor=[]\n",
    "for i in Alargamiento:\n",
    "    j=(i-alargamiento_inicial)/longitud_inicial\n",
    "    defor.append(j)\n",
    "defor    "
   ]
  },
  {
   "cell_type": "code",
   "execution_count": 50,
   "metadata": {},
   "outputs": [
    {
     "data": {
      "text/html": [
       "<div>\n",
       "<style scoped>\n",
       "    .dataframe tbody tr th:only-of-type {\n",
       "        vertical-align: middle;\n",
       "    }\n",
       "\n",
       "    .dataframe tbody tr th {\n",
       "        vertical-align: top;\n",
       "    }\n",
       "\n",
       "    .dataframe thead th {\n",
       "        text-align: right;\n",
       "    }\n",
       "</style>\n",
       "<table border=\"1\" class=\"dataframe\">\n",
       "  <thead>\n",
       "    <tr style=\"text-align: right;\">\n",
       "      <th></th>\n",
       "      <th>Fuerza_kN</th>\n",
       "      <th>Alargamiento</th>\n",
       "      <th>Al/Lo</th>\n",
       "      <th>Fuerza_en_N</th>\n",
       "      <th>Tension</th>\n",
       "      <th>Modulo_de_Young</th>\n",
       "    </tr>\n",
       "  </thead>\n",
       "  <tbody>\n",
       "    <tr>\n",
       "      <th>0</th>\n",
       "      <td>70</td>\n",
       "      <td>0.25</td>\n",
       "      <td>0.005</td>\n",
       "      <td>70000</td>\n",
       "      <td>1485.446136</td>\n",
       "      <td>280000.000000</td>\n",
       "    </tr>\n",
       "    <tr>\n",
       "      <th>1</th>\n",
       "      <td>120</td>\n",
       "      <td>0.40</td>\n",
       "      <td>0.008</td>\n",
       "      <td>120000</td>\n",
       "      <td>2546.479089</td>\n",
       "      <td>300000.000000</td>\n",
       "    </tr>\n",
       "    <tr>\n",
       "      <th>2</th>\n",
       "      <td>150</td>\n",
       "      <td>0.50</td>\n",
       "      <td>0.010</td>\n",
       "      <td>150000</td>\n",
       "      <td>3183.098862</td>\n",
       "      <td>300000.000000</td>\n",
       "    </tr>\n",
       "    <tr>\n",
       "      <th>3</th>\n",
       "      <td>160</td>\n",
       "      <td>0.60</td>\n",
       "      <td>0.012</td>\n",
       "      <td>160000</td>\n",
       "      <td>3395.305453</td>\n",
       "      <td>266666.666667</td>\n",
       "    </tr>\n",
       "    <tr>\n",
       "      <th>4</th>\n",
       "      <td>200</td>\n",
       "      <td>1.75</td>\n",
       "      <td>0.035</td>\n",
       "      <td>200000</td>\n",
       "      <td>4244.131816</td>\n",
       "      <td>114285.714286</td>\n",
       "    </tr>\n",
       "    <tr>\n",
       "      <th>5</th>\n",
       "      <td>220</td>\n",
       "      <td>3.00</td>\n",
       "      <td>0.060</td>\n",
       "      <td>220000</td>\n",
       "      <td>4668.544997</td>\n",
       "      <td>73333.333333</td>\n",
       "    </tr>\n",
       "    <tr>\n",
       "      <th>6</th>\n",
       "      <td>233</td>\n",
       "      <td>5.00</td>\n",
       "      <td>0.100</td>\n",
       "      <td>233000</td>\n",
       "      <td>4944.413565</td>\n",
       "      <td>46600.000000</td>\n",
       "    </tr>\n",
       "    <tr>\n",
       "      <th>7</th>\n",
       "      <td>233</td>\n",
       "      <td>6.50</td>\n",
       "      <td>0.130</td>\n",
       "      <td>233000</td>\n",
       "      <td>4944.413565</td>\n",
       "      <td>35846.153846</td>\n",
       "    </tr>\n",
       "    <tr>\n",
       "      <th>8</th>\n",
       "      <td>220</td>\n",
       "      <td>8.00</td>\n",
       "      <td>0.160</td>\n",
       "      <td>220000</td>\n",
       "      <td>4668.544997</td>\n",
       "      <td>27500.000000</td>\n",
       "    </tr>\n",
       "  </tbody>\n",
       "</table>\n",
       "</div>"
      ],
      "text/plain": [
       "   Fuerza_kN  Alargamiento  Al/Lo  Fuerza_en_N      Tension  Modulo_de_Young\n",
       "0         70          0.25  0.005        70000  1485.446136    280000.000000\n",
       "1        120          0.40  0.008       120000  2546.479089    300000.000000\n",
       "2        150          0.50  0.010       150000  3183.098862    300000.000000\n",
       "3        160          0.60  0.012       160000  3395.305453    266666.666667\n",
       "4        200          1.75  0.035       200000  4244.131816    114285.714286\n",
       "5        220          3.00  0.060       220000  4668.544997     73333.333333\n",
       "6        233          5.00  0.100       233000  4944.413565     46600.000000\n",
       "7        233          6.50  0.130       233000  4944.413565     35846.153846\n",
       "8        220          8.00  0.160       220000  4668.544997     27500.000000"
      ]
     },
     "execution_count": 50,
     "metadata": {},
     "output_type": "execute_result"
    }
   ],
   "source": [
    "df = DataFrame(P,columns=['Fuerza_kN'])\n",
    "df_1 = DataFrame(Alargamiento,columns=['Alargamiento'])\n",
    "df_2 = DataFrame(defor,columns=['Al/Lo'])\n",
    "data = pd.concat([df, df_1,df_2], axis=1,)\n",
    "data[\"Fuerza_en_N\"]=data['Fuerza_kN']*1000\n",
    "##Creamos la columna de Tension, dividimos fuerza/superficie\n",
    "data['Tension']=data['Fuerza_en_N']/superficie\n",
    "data['Modulo_de_Young']=data['Fuerza_en_N']/data['Alargamiento']\n",
    "\n",
    "data"
   ]
  },
  {
   "cell_type": "code",
   "execution_count": 3,
   "metadata": {},
   "outputs": [
    {
     "name": "stdout",
     "output_type": "stream",
     "text": [
      "[0.30624999999999997, 0.525, 0.65625, 0.7]\n"
     ]
    }
   ],
   "source": [
    "valores_x=[]\n",
    "P_x=[70,120,150,160]\n",
    "## Calculamos la ordenada al origen\n",
    "m=(160-0)/(0.5+0.2)\n",
    "for y in P_x:\n",
    "    x=y/m\n",
    "    valores_x.append(x)\n",
    "print(valores_x)    "
   ]
  },
  {
   "cell_type": "code",
   "execution_count": 4,
   "metadata": {},
   "outputs": [
    {
     "data": {
      "image/png": "[encoded data removed]",
      "text/plain": [
       "<Figure size 1080x720 with 1 Axes>"
      ]
     },
     "metadata": {
      "needs_background": "light"
     },
     "output_type": "display_data"
    }
   ],
   "source": [
    "## Gráfico de tensiones\n",
    "plt.figure(figsize=(15,10))\n",
    "plt.scatter(Alargamiento,P, s = 25, label = 'Datos')\n",
    "plt.plot(valores_x,P_x, '--',label ='Curva Teórica', c = 'g')\n",
    "\n",
    "#plt.plot(x1, '--',label ='Curva Teórica', c = 'g')\n",
    "plt.plot(Alargamiento,P, '--',label ='Curva Teórica', c = 'r')\n",
    "plt.xlabel('Alargamiento')\n",
    "plt.ylabel('Tension')\n",
    "plt.legend()\n",
    "plt.grid()\n",
    "plt.show()"
   ]
  },
  {
   "cell_type": "code",
   "execution_count": 5,
   "metadata": {},
   "outputs": [
    {
     "name": "stdout",
     "output_type": "stream",
     "text": [
      "El ángulo de la pendiente es:  1.5676713369673632\n"
     ]
    }
   ],
   "source": [
    "## Calculamos la pendiente sigma 0.2\n",
    "# E= tangente (angulo)\n",
    "import math\n",
    "cateto_opuesto=160\n",
    "cateto_adyacente=0.5\n",
    "angulo=math.atan(cateto_opuesto/cateto_adyacente)\n",
    "print(\"El ángulo de la pendiente es: \",angulo)"
   ]
  },
  {
   "cell_type": "code",
   "execution_count": null,
   "metadata": {},
   "outputs": [],
   "source": []
  },
  {
   "cell_type": "code",
   "execution_count": 6,
   "metadata": {},
   "outputs": [
    {
     "data": {
      "image/png": "[encoded data removed]",
      "text/plain": [
       "<Figure size 432x288 with 1 Axes>"
      ]
     },
     "metadata": {
      "needs_background": "light"
     },
     "output_type": "display_data"
    }
   ],
   "source": [
    "from matplotlib import pyplot\n",
    "#Función Lineal.\n",
    "def f(x):\n",
    "    return 4*x-7\n",
    "#En esta variable se genera una lista con valores del -10 al 10.\n",
    "#Todos estos valores serán los que tomara x.\n",
    "x = range(0, 160)\n",
    "\n",
    "#Con el método plot especificamos que función graficaremos.\n",
    "#El primer argumento es la variable con los valores de x.\n",
    "#El segundo argumento le pasamos todos estos valares a la función con ayuda de un bucle.\n",
    "pyplot.plot(x, [f(i) for i in x])\n",
    "\n",
    "#Establecemos el color de los ejes.\n",
    "pyplot.axhline(0, color=\"black\")\n",
    "pyplot.axvline(0, color=\"black\")\n",
    "\n",
    "#Especificamos los limites de los ejes.\n",
    "pyplot.xlim(-1, 8)\n",
    "pyplot.ylim(-10, 250)\n",
    "\n",
    "#Guardamos el grafico en una imagen \"png\".\n",
    "#pyplot.savefig(\"función_lineal.png\")\n",
    "\n",
    "# Mostramos el gráfico.\n",
    "pyplot.show()"
   ]
  },
  {
   "cell_type": "code",
   "execution_count": null,
   "metadata": {},
   "outputs": [],
   "source": []
  }
 ],
 "metadata": {
  "kernelspec": {
   "display_name": "Python 3",
   "language": "python",
   "name": "python3"
  },
  "language_info": {
   "codemirror_mode": {
    "name": "ipython",
    "version": 3
   },
   "file_extension": ".py",
   "mimetype": "text/x-python",
   "name": "python",
   "nbconvert_exporter": "python",
   "pygments_lexer": "ipython3",
   "version": "3.7.6"
  }
 },
 "nbformat": 4,
 "nbformat_minor": 4
}
