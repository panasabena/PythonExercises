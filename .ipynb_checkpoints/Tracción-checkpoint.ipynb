{
 "cells": [
  {
   "cell_type": "code",
   "execution_count": 30,
   "metadata": {},
   "outputs": [],
   "source": [
    "import pandas as pd\n",
    "from pandas import DataFrame\n",
    "#import numpy as np\n",
    "import matplotlib.pyplot as plt\n",
    "import seaborn as sns\n",
    "from math import *"
   ]
  },
  {
   "cell_type": "markdown",
   "metadata": {},
   "source": [
    "## Chequeamos que funcione pi"
   ]
  },
  {
   "cell_type": "code",
   "execution_count": 31,
   "metadata": {},
   "outputs": [
    {
     "data": {
      "text/plain": [
       "3.141592653589793"
      ]
     },
     "execution_count": 31,
     "metadata": {},
     "output_type": "execute_result"
    }
   ],
   "source": [
    "pi"
   ]
  },
  {
   "cell_type": "markdown",
   "metadata": {},
   "source": [
    "## Ejercicio N° 2 de tracción."
   ]
  },
  {
   "cell_type": "markdown",
   "metadata": {},
   "source": [
    "## Definimos las instancias:\n",
    "> P es la carga a la que se somete la probeta\n",
    "\n",
    "> Alargamiento es la deformación causada con cada fuerza \"P\"\n",
    "\n",
    "> Diámetro_1 es el diametro inicial de la probeta\n",
    "\n",
    "> Diámetro_2 es el diámetro final de la probeta"
   ]
  },
  {
   "cell_type": "code",
   "execution_count": 6,
   "metadata": {},
   "outputs": [
    {
     "name": "stdout",
     "output_type": "stream",
     "text": [
      "176.71458676442586\n",
      "176.71458676442586\n"
     ]
    }
   ],
   "source": [
    "P=[0,70,120,150,160,200,220,233,233,220]\n",
    "Alargamiento=[0,0.25,0.4,0.5,0.6,1.75,3,5,6.5,8]\n",
    "diametro_1=15\n",
    "radio_1=diametro_1/2\n",
    "diametro_2=12.5\n",
    "radio_2=diametro_2/2\n",
    "alargamiento_inicial=0\n",
    "longitud_inicial=50\n",
    "superficie=(pi*(diametro_1)**2)/4\n",
    "area=(pi*(radio_1)**2)\n",
    "print(superficie)\n",
    "print(area)"
   ]
  },
  {
   "cell_type": "code",
   "execution_count": 13,
   "metadata": {},
   "outputs": [],
   "source": [
    "defor=[]\n",
    "for i in Alargamiento:\n",
    "    j=(i-alargamiento_inicial)/longitud_inicial\n",
    "    defor.append(j)\n",
    "defor    \n",
    "defor02=[0.0,0.002, 0.005, 0.008, 0.01, 0.012, 0.035, 0.06, 0.1, 0.13, 0.16]"
   ]
  },
  {
   "cell_type": "markdown",
   "metadata": {},
   "source": [
    "## Definimos la tensión como Fuerza/Superficie\n",
    "## El modulo de Young es la fuerza sobre el alargamiento\n",
    "### Luego pasamos todo a formato tabla"
   ]
  },
  {
   "cell_type": "code",
   "execution_count": 24,
   "metadata": {},
   "outputs": [
    {
     "data": {
      "text/html": [
       "<div>\n",
       "<style scoped>\n",
       "    .dataframe tbody tr th:only-of-type {\n",
       "        vertical-align: middle;\n",
       "    }\n",
       "\n",
       "    .dataframe tbody tr th {\n",
       "        vertical-align: top;\n",
       "    }\n",
       "\n",
       "    .dataframe thead th {\n",
       "        text-align: right;\n",
       "    }\n",
       "</style>\n",
       "<table border=\"1\" class=\"dataframe\">\n",
       "  <thead>\n",
       "    <tr style=\"text-align: right;\">\n",
       "      <th></th>\n",
       "      <th>Fuerza_kN</th>\n",
       "      <th>Alargamiento</th>\n",
       "      <th>Al/Lo</th>\n",
       "      <th>Fuerza_en_N</th>\n",
       "      <th>Tension_MPa</th>\n",
       "      <th>Modulo_de_Young</th>\n",
       "    </tr>\n",
       "  </thead>\n",
       "  <tbody>\n",
       "    <tr>\n",
       "      <th>0</th>\n",
       "      <td>0</td>\n",
       "      <td>0.00</td>\n",
       "      <td>0.000</td>\n",
       "      <td>0</td>\n",
       "      <td>0.000000</td>\n",
       "      <td>NaN</td>\n",
       "    </tr>\n",
       "    <tr>\n",
       "      <th>1</th>\n",
       "      <td>70</td>\n",
       "      <td>0.25</td>\n",
       "      <td>0.005</td>\n",
       "      <td>70000</td>\n",
       "      <td>396.118969</td>\n",
       "      <td>280000.000000</td>\n",
       "    </tr>\n",
       "    <tr>\n",
       "      <th>2</th>\n",
       "      <td>120</td>\n",
       "      <td>0.40</td>\n",
       "      <td>0.008</td>\n",
       "      <td>120000</td>\n",
       "      <td>679.061091</td>\n",
       "      <td>300000.000000</td>\n",
       "    </tr>\n",
       "    <tr>\n",
       "      <th>3</th>\n",
       "      <td>150</td>\n",
       "      <td>0.50</td>\n",
       "      <td>0.010</td>\n",
       "      <td>150000</td>\n",
       "      <td>848.826363</td>\n",
       "      <td>300000.000000</td>\n",
       "    </tr>\n",
       "    <tr>\n",
       "      <th>4</th>\n",
       "      <td>160</td>\n",
       "      <td>0.60</td>\n",
       "      <td>0.012</td>\n",
       "      <td>160000</td>\n",
       "      <td>905.414787</td>\n",
       "      <td>266666.666667</td>\n",
       "    </tr>\n",
       "    <tr>\n",
       "      <th>5</th>\n",
       "      <td>200</td>\n",
       "      <td>1.75</td>\n",
       "      <td>0.035</td>\n",
       "      <td>200000</td>\n",
       "      <td>1131.768484</td>\n",
       "      <td>114285.714286</td>\n",
       "    </tr>\n",
       "    <tr>\n",
       "      <th>6</th>\n",
       "      <td>220</td>\n",
       "      <td>3.00</td>\n",
       "      <td>0.060</td>\n",
       "      <td>220000</td>\n",
       "      <td>1244.945333</td>\n",
       "      <td>73333.333333</td>\n",
       "    </tr>\n",
       "    <tr>\n",
       "      <th>7</th>\n",
       "      <td>233</td>\n",
       "      <td>5.00</td>\n",
       "      <td>0.100</td>\n",
       "      <td>233000</td>\n",
       "      <td>1318.510284</td>\n",
       "      <td>46600.000000</td>\n",
       "    </tr>\n",
       "    <tr>\n",
       "      <th>8</th>\n",
       "      <td>233</td>\n",
       "      <td>6.50</td>\n",
       "      <td>0.130</td>\n",
       "      <td>233000</td>\n",
       "      <td>1318.510284</td>\n",
       "      <td>35846.153846</td>\n",
       "    </tr>\n",
       "    <tr>\n",
       "      <th>9</th>\n",
       "      <td>220</td>\n",
       "      <td>8.00</td>\n",
       "      <td>0.160</td>\n",
       "      <td>220000</td>\n",
       "      <td>1244.945333</td>\n",
       "      <td>27500.000000</td>\n",
       "    </tr>\n",
       "  </tbody>\n",
       "</table>\n",
       "</div>"
      ],
      "text/plain": [
       "   Fuerza_kN  Alargamiento  Al/Lo  Fuerza_en_N  Tension_MPa  Modulo_de_Young\n",
       "0          0          0.00  0.000            0     0.000000              NaN\n",
       "1         70          0.25  0.005        70000   396.118969    280000.000000\n",
       "2        120          0.40  0.008       120000   679.061091    300000.000000\n",
       "3        150          0.50  0.010       150000   848.826363    300000.000000\n",
       "4        160          0.60  0.012       160000   905.414787    266666.666667\n",
       "5        200          1.75  0.035       200000  1131.768484    114285.714286\n",
       "6        220          3.00  0.060       220000  1244.945333     73333.333333\n",
       "7        233          5.00  0.100       233000  1318.510284     46600.000000\n",
       "8        233          6.50  0.130       233000  1318.510284     35846.153846\n",
       "9        220          8.00  0.160       220000  1244.945333     27500.000000"
      ]
     },
     "execution_count": 24,
     "metadata": {},
     "output_type": "execute_result"
    }
   ],
   "source": [
    "df = DataFrame(P,columns=['Fuerza_kN'])\n",
    "df_1 = DataFrame(Alargamiento,columns=['Alargamiento'])\n",
    "df_2 = DataFrame(defor,columns=['Al/Lo'])\n",
    "data = pd.concat([df, df_1,df_2], axis=1,)\n",
    "data[\"Fuerza_en_N\"]=data['Fuerza_kN']*1000\n",
    "##Creamos la columna de Tension, dividimos fuerza/superficie\n",
    "## La tension se pone en Mpa= Mpa es megapascal y megapascal es 1 N/mm² = 1 Megapascal [MPa]\n",
    "data['Tension_MPa']=data['Fuerza_en_N']/superficie\n",
    "data['Modulo_de_Young']=data['Fuerza_en_N']/data['Alargamiento']\n",
    "\n",
    "data"
   ]
  },
  {
   "cell_type": "markdown",
   "metadata": {},
   "source": [
    "### Calculo el angulo alfa entre la pendiente del modulo del modulo de young y el eje x\n"
   ]
  },
  {
   "cell_type": "code",
   "execution_count": 58,
   "metadata": {},
   "outputs": [
    {
     "data": {
      "text/plain": [
       "1.56746300580716"
      ]
     },
     "execution_count": 58,
     "metadata": {},
     "output_type": "execute_result"
    }
   ],
   "source": [
    "puntofinal_y=150\n",
    "puntoinicial_y=0.5\n",
    "alfa=puntofinal_y/puntoinicial_y\n",
    "angulo=atan(alfa)\n",
    "angulo"
   ]
  },
  {
   "cell_type": "markdown",
   "metadata": {},
   "source": [
    "## La pendiente del modulo E es lineal hasta 150 Kn, entonces, sacamos la ordenada: que va desde el punto (0,0) hasta (0.5,150)\n"
   ]
  },
  {
   "cell_type": "code",
   "execution_count": 42,
   "metadata": {},
   "outputs": [
    {
     "name": "stdout",
     "output_type": "stream",
     "text": [
      "[0.0, 0.23333333333333334, 0.4, 0.5]\n"
     ]
    }
   ],
   "source": [
    "P_x=[0,70,120,150]\n",
    "valores_x=[]\n",
    "m=(150-0)/(0.5-0)\n",
    "for i in P_x:\n",
    "    x=i/m\n",
    "    valores_x.append(x)\n",
    "print(valores_x)\n",
    "\n"
   ]
  },
  {
   "cell_type": "markdown",
   "metadata": {},
   "source": [
    "# Calculo el sigma 0.2\n",
    "> El sigma 0.2 es el 0.2% de la longitud inicial de la probeta, corresponde al 0.002 de la deformación específica (epsilon)."
   ]
  },
  {
   "cell_type": "code",
   "execution_count": 71,
   "metadata": {},
   "outputs": [],
   "source": [
    "## Preguntar si está bien el calculo del sigma"
   ]
  },
  {
   "cell_type": "code",
   "execution_count": 68,
   "metadata": {},
   "outputs": [],
   "source": [
    "sigma02=0.2*8\n",
    "sigma02\n",
    "nuevos_x=[]\n",
    "\n",
    "P_xnuevos=[0,70,120,150,210]\n"
   ]
  },
  {
   "cell_type": "markdown",
   "metadata": {},
   "source": [
    "## Calculamos la ordenada al origen de la recta del modulo de elasticidad, pero le sumamos a la x el 1.6 (sigma0.2)."
   ]
  },
  {
   "cell_type": "code",
   "execution_count": 69,
   "metadata": {},
   "outputs": [
    {
     "name": "stdout",
     "output_type": "stream",
     "text": [
      "[1.6, 1.8333333333333335, 2.0, 2.1, 2.3]\n"
     ]
    }
   ],
   "source": [
    "b=(150)/(0.5)\n",
    "for y in P_xnuevos:\n",
    "    x=y/b+sigma02\n",
    "    nuevos_x.append(x)\n",
    "print(nuevos_x)    \n",
    "#print(sigma02)  "
   ]
  },
  {
   "cell_type": "markdown",
   "metadata": {},
   "source": [
    "## Gráfico de tensiones"
   ]
  },
  {
   "cell_type": "code",
   "execution_count": 70,
   "metadata": {},
   "outputs": [
    {
     "data": {
      "image/png": "[encoded data removed]",
      "text/plain": [
       "<Figure size 1080x720 with 1 Axes>"
      ]
     },
     "metadata": {
      "needs_background": "light"
     },
     "output_type": "display_data"
    }
   ],
   "source": [
    "plt.figure(figsize=(15,10))\n",
    "## Puntos de intersección de los ejes (x,y)\n",
    "plt.scatter(Alargamiento,P, s = 25, label = 'Datos')\n",
    "## Función de deformación:\n",
    "plt.plot(Alargamiento,P, '--',label ='Curva Teórica', c = 'r')\n",
    "## Pendiente del sigma 0.2:\n",
    "plt.plot(nuevos_x,P_xnuevos, '--',label ='Curva Teórica', c = 'g')\n",
    "\n",
    "plt.xlabel('Alargamiento')\n",
    "plt.ylabel('Tension')\n",
    "plt.legend()\n",
    "plt.grid()\n",
    "plt.show()"
   ]
  }
 ],
 "metadata": {
  "kernelspec": {
   "display_name": "Python 3",
   "language": "python",
   "name": "python3"
  },
  "language_info": {
   "codemirror_mode": {
    "name": "ipython",
    "version": 3
   },
   "file_extension": ".py",
   "mimetype": "text/x-python",
   "name": "python",
   "nbconvert_exporter": "python",
   "pygments_lexer": "ipython3",
   "version": "3.7.6"
  }
 },
 "nbformat": 4,
 "nbformat_minor": 4
}
